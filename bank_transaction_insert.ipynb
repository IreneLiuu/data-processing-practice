{
 "cells": [
  {
   "cell_type": "code",
   "execution_count": 28,
   "metadata": {},
   "outputs": [],
   "source": [
    "import csv\n",
    "import sqlite3\n",
    "import pandas as pd\n",
    "from datetime import datetime\n",
    "from time import sleep\n"
   ]
  },
  {
   "cell_type": "code",
   "execution_count": 29,
   "metadata": {},
   "outputs": [],
   "source": [
    "def remove_quotes(value):\n",
    "    if isinstance(value, str):\n",
    "        return value.replace('\"', '')\n",
    "    return value"
   ]
  },
  {
   "cell_type": "code",
   "execution_count": 30,
   "metadata": {},
   "outputs": [],
   "source": [
    "file_path = 'C:\\\\dev\\\\Bank statement FI spending account.csv'\n",
    "fi_spending = pd.read_csv(file_path, sep=';')\n",
    "\n",
    "file_path = 'C:\\\\dev\\\\Bank statement FI savings account.csv'\n",
    "fi_savings = pd.read_csv(file_path, sep=';')\n",
    "\n",
    "file_path = 'C:\\\\dev\\\\Bank statement NL spending account.csv'\n",
    "nl_spending = pd.read_csv(file_path, sep=',', converters={i: remove_quotes for i in range(100)})\n",
    "# total_rows = len(nl_spending.index + fi_spending.index + fi_savings.index)\n",
    "# display(total_rows)"
   ]
  },
  {
   "cell_type": "code",
   "execution_count": 31,
   "metadata": {},
   "outputs": [],
   "source": [
    "# connecting to the database\n",
    "connection = sqlite3.connect('C:\\\\dev\\\\financial_data.sqlite')\n",
    "# cursor\n",
    "cursor = connection.cursor()\n",
    "\n",
    "#create table\n",
    "cursor.execute(\"\"\"\n",
    "CREATE TABLE IF NOT EXISTS banktransactions(\n",
    "Id INTEGER PRIMARY KEY AUTOINCREMENT,\n",
    "Date TEXT not null,\n",
    "Amount DECIMAL(10,2) not null,\n",
    "Message TEXT,\n",
    "Category TEXT);\n",
    "\"\"\")\n",
    "connection.commit()"
   ]
  },
  {
   "cell_type": "code",
   "execution_count": 32,
   "metadata": {},
   "outputs": [],
   "source": [
    "# insert data into table\n",
    "for index, row in fi_spending.iterrows():\n",
    "    # Convert each field to string, change comma to dot, and handle NaN values\n",
    "    amount = str(row['Sum EURO']).replace(',', '.')\n",
    "    receiver_payee = str(row['Receiver/Payee']).replace('\"', '')\n",
    "    explanation = str(row['Explanation']).replace('\"', '')\n",
    "    receiver_account_number = str(row['Receiver account number']) if not pd.isna(row['Receiver account number']) else \"\"\n",
    "    message = str(row['Message']) if not pd.isna(row['Message']) else \"\"\n",
    "\n",
    "    # Construct the full message string\n",
    "    full_message = f\"{receiver_payee}; {explanation}; {receiver_account_number}; {message}\"\n",
    "    # full_message = receiver_payee + \"; \" + explanation + \"; \" + receiver_account_number + \"; \" + message\n",
    "\n",
    "    sql_query = f\"\"\"insert into banktransactions \n",
    "    (Date, Amount, Message) \n",
    "    values(\n",
    "        \"{datetime.strptime(row['Entry date'], '%d/%m/%Y').isoformat()}\",\n",
    "        {amount},\n",
    "        \"{full_message}\")\n",
    "    ;\"\"\"\n",
    "\n",
    "    # print(sql_query)\n",
    "    cursor.execute(sql_query)\n",
    "\n",
    "connection.commit()"
   ]
  },
  {
   "cell_type": "code",
   "execution_count": 33,
   "metadata": {},
   "outputs": [],
   "source": [
    "for index, row in fi_savings.iterrows():\n",
    "    # Convert each field to string, change comma to dot, and handle NaN values\n",
    "    amount = str(row['Sum EURO']).replace(',', '.')\n",
    "    receiver_payee = str(row['Receiver/Payee']).replace('\"', '')\n",
    "    explanation = str(row['Explanation']).replace('\"', '')\n",
    "    receiver_account_number = str(row['Receiver account number']) if not pd.isna(row['Receiver account number']) else \"\"\n",
    "    message = str(row['Message']) if not pd.isna(row['Message']) else \"\"\n",
    "\n",
    "    # Construct the full message string\n",
    "    full_message = f\"{receiver_payee}; {explanation}; {receiver_account_number}; {message}\"\n",
    "    # full_message = receiver_payee + \"; \" + explanation + \"; \" + receiver_account_number + \"; \" + message\n",
    "\n",
    "    sql_query = f\"\"\"insert into banktransactions \n",
    "    (Date, Amount, Message) \n",
    "    values(\n",
    "        \"{datetime.strptime(row['Entry date'], '%d/%m/%Y').isoformat()}\",\n",
    "        {amount},\n",
    "        \"{full_message}\")\n",
    "    ;\"\"\"\n",
    "\n",
    "    cursor.execute(sql_query)\n",
    "\n",
    "connection.commit()"
   ]
  },
  {
   "cell_type": "code",
   "execution_count": 34,
   "metadata": {},
   "outputs": [],
   "source": [
    "for index, row in nl_spending.iterrows():\n",
    "    # Convert each field to string, change comma to dot, and handle NaN values\n",
    "    amount = str(row['amount'])\n",
    "    description = str(row['description'])if pd.notna(row['description']) else \"\"\n",
    "\n",
    "    sql_query = f\"\"\"insert into banktransactions \n",
    "    (Date, Amount, Message) \n",
    "    values(\n",
    "        \"{datetime.strptime(row['transactiondate'], '%Y%m%d').isoformat()}\",\n",
    "        {amount},\n",
    "        \"{description}\")\n",
    "    ;\"\"\"\n",
    "\n",
    "    cursor.execute(sql_query)\n",
    "\n",
    "connection.commit()"
   ]
  },
  {
   "cell_type": "code",
   "execution_count": 35,
   "metadata": {},
   "outputs": [],
   "source": [
    "connection.close()"
   ]
  }
 ],
 "metadata": {
  "kernelspec": {
   "display_name": "Python 3",
   "language": "python",
   "name": "python3"
  },
  "language_info": {
   "codemirror_mode": {
    "name": "ipython",
    "version": 3
   },
   "file_extension": ".py",
   "mimetype": "text/x-python",
   "name": "python",
   "nbconvert_exporter": "python",
   "pygments_lexer": "ipython3",
   "version": "3.12.0"
  }
 },
 "nbformat": 4,
 "nbformat_minor": 2
}
